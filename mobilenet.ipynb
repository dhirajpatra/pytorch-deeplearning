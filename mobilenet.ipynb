{
 "cells": [
  {
   "cell_type": "code",
   "execution_count": null,
   "id": "21067ec8-ace0-4e65-b94d-40f24f23a37e",
   "metadata": {},
   "outputs": [],
   "source": [
    "!wget https://raw.githubusercontent.com/MicrosoftDocs/pytorchfundamentals/main/computer-vision-pytorch/pytorchcv.py"
   ]
  },
  {
   "cell_type": "code",
   "execution_count": null,
   "id": "b9e3528b-a40e-4db2-9391-35eb5f0a1d51",
   "metadata": {},
   "outputs": [],
   "source": [
    "import torch\n",
    "import torch.nn as nn\n",
    "import torchvision\n",
    "import matplotlib.pyplot as plt\n",
    "from torchinfo import summary\n",
    "import os\n",
    "\n",
    "from pytorchcv import train, display_dataset, train_long, load_cats_dogs_dataset, validate, common_transform"
   ]
  },
  {
   "cell_type": "code",
   "execution_count": null,
   "id": "ce6ea84c-ef15-441c-b362-f238cc86b58c",
   "metadata": {},
   "outputs": [],
   "source": [
    "if not os.path.exists('data/kagglecatsanddogs_5340.zip'):\n",
    "    !wget -P data -q https://download.microsoft.com/download/3/E/1/3E1C3F21-ECDB-4869-8368-6DEBA77B919F/kagglecatsanddogs_5340.zip\n",
    "\n",
    "dataset, train_loader, test_loader = load_cats_dogs_dataset()"
   ]
  },
  {
   "cell_type": "code",
   "execution_count": null,
   "id": "45fccd75-9298-4121-8405-233c8219aa3f",
   "metadata": {},
   "outputs": [],
   "source": [
    "model = torch.hub.load('pytorch/vision:v0.13.0', 'mobilenet_v2', weights='MobileNet_V2_Weights.DEFAULT')\n",
    "model.eval()\n",
    "print(model)"
   ]
  },
  {
   "cell_type": "code",
   "execution_count": null,
   "id": "9ce4e11e-39b1-4813-a345-e2ba2f0ebf7b",
   "metadata": {},
   "outputs": [],
   "source": [
    "sample_image = dataset[0][0].unsqueeze(0)\n",
    "res = model(sample_image)\n",
    "print(res[0].argmax())"
   ]
  },
  {
   "cell_type": "code",
   "execution_count": null,
   "id": "d68299d6-2a4e-4371-a1e3-0d18d8af001e",
   "metadata": {},
   "outputs": [],
   "source": [
    "for x in model.parameters():\n",
    "    x.requires_grad = False"
   ]
  },
  {
   "cell_type": "code",
   "execution_count": null,
   "id": "032572c0-2335-4a3e-9bdb-4cf3c8a17f32",
   "metadata": {},
   "outputs": [],
   "source": [
    "device = 'cuda' if torch.cuda.is_available() else 'cpu'\n",
    "model.classifier = nn.Linear(1280,2)\n",
    "model = model.to(device)\n",
    "summary(model,input_size=(1,3,244,244))"
   ]
  },
  {
   "cell_type": "code",
   "execution_count": null,
   "id": "5ef1a4d2-9f3a-4ed5-b646-e78a9a3d7891",
   "metadata": {},
   "outputs": [],
   "source": [
    "train_long(model,train_loader,test_loader,loss_fn=torch.nn.CrossEntropyLoss(),epochs=1,print_freq=90)"
   ]
  }
 ],
 "metadata": {
  "kernelspec": {
   "display_name": "Python 3 (ipykernel)",
   "language": "python",
   "name": "python3"
  },
  "language_info": {
   "codemirror_mode": {
    "name": "ipython",
    "version": 3
   },
   "file_extension": ".py",
   "mimetype": "text/x-python",
   "name": "python",
   "nbconvert_exporter": "python",
   "pygments_lexer": "ipython3",
   "version": "3.11.5"
  }
 },
 "nbformat": 4,
 "nbformat_minor": 5
}
