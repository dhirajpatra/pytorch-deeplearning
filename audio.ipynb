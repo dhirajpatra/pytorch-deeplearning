{
 "cells": [
  {
   "cell_type": "code",
   "execution_count": null,
   "id": "c323a2fe-65ad-46a5-883c-bb2ad4da570c",
   "metadata": {},
   "outputs": [],
   "source": [
    "!pip install -r https://raw.githubusercontent.com/MicrosoftDocs/pytorchfundamentals/main/audio-pytorch/install-packages.txt"
   ]
  },
  {
   "cell_type": "code",
   "execution_count": null,
   "id": "d37a5895-ae3b-415b-a66d-547e16704b27",
   "metadata": {},
   "outputs": [],
   "source": [
    "# import the packages\n",
    "import os\n",
    "import torchaudio\n",
    "import IPython.display as ipd\n",
    "import matplotlib.pyplot as plt"
   ]
  },
  {
   "cell_type": "code",
   "execution_count": null,
   "id": "5273c1ac-bb21-4c14-9c5e-9746a81d52a2",
   "metadata": {},
   "outputs": [],
   "source": [
    "default_dir = os.getcwd()\n",
    "folder = 'data'\n",
    "print(f'Data directory will be: {default_dir}/{folder}')\n",
    "\n",
    "if os.path.isdir(folder):\n",
    "    print(\"Data folder exists.\")\n",
    "else:\n",
    "    print(\"Creating folder.\")\n",
    "    os.mkdir(folder) "
   ]
  },
  {
   "cell_type": "code",
   "execution_count": null,
   "id": "8fe27caf-688d-415a-acbc-255ed118b7bd",
   "metadata": {},
   "outputs": [],
   "source": [
    "trainset_speechcommands = torchaudio.datasets.SPEECHCOMMANDS(f'./{folder}/', download=True)"
   ]
  },
  {
   "cell_type": "code",
   "execution_count": null,
   "id": "f62ff6d5-8b5b-48a7-a9dc-1a1bb47c6d23",
   "metadata": {},
   "outputs": [],
   "source": [
    "os.chdir(f'./{folder}/SpeechCommands/speech_commands_v0.02/')\n",
    "labels = [name for name in os.listdir('.') if os.path.isdir(name)]\n",
    "# back to default directory\n",
    "os.chdir(default_dir)\n",
    "print(f'Total Labels: {len(labels)} \\n')\n",
    "print(f'Label Names: {labels}')"
   ]
  },
  {
   "cell_type": "code",
   "execution_count": null,
   "id": "3afc15fe-c236-42ae-a7b0-2dde78950a39",
   "metadata": {},
   "outputs": [],
   "source": [
    "filename = \"./data/SpeechCommands/speech_commands_v0.02/yes/00f0204f_nohash_0.wav\"\n",
    "waveform, sample_rate = torchaudio.load(filepath=filename, num_frames=3)\n",
    "print(f'waveform tensor with 3 frames:  {waveform} \\n')\n",
    "waveform, sample_rate = torchaudio.load(filepath=filename, num_frames=3, frame_offset =2)\n",
    "print(f'waveform tensor with 2 frame_offsets: {waveform} \\n')\n",
    "waveform, sample_rate = torchaudio.load(filepath=filename)\n",
    "print(f'waveform tensor:  {waveform}' )"
   ]
  },
  {
   "cell_type": "code",
   "execution_count": null,
   "id": "04e4c557-36bd-42a9-a1e9-88c16c1531f9",
   "metadata": {},
   "outputs": [],
   "source": [
    "def plot_audio(filename):\n",
    "    waveform, sample_rate = torchaudio.load(filename)\n",
    "\n",
    "    print(\"Shape of waveform: {}\".format(waveform.size()))\n",
    "    print(\"Sample rate of waveform: {}\".format(sample_rate))\n",
    "\n",
    "    plt.figure()\n",
    "    plt.plot(waveform.t().numpy())\n",
    "\n",
    "    return waveform, sample_rate"
   ]
  },
  {
   "cell_type": "code",
   "execution_count": null,
   "id": "b696a25a-665d-473f-9652-9d92e3a9a542",
   "metadata": {},
   "outputs": [],
   "source": [
    "filename = \"./data/SpeechCommands/speech_commands_v0.02/yes/00f0204f_nohash_0.wav\"\n",
    "waveform, sample_rate = plot_audio(filename)\n",
    "ipd.Audio(waveform.numpy(), rate=sample_rate)"
   ]
  },
  {
   "cell_type": "code",
   "execution_count": null,
   "id": "311b903e-6937-4a6f-8e57-ea8c673dec24",
   "metadata": {},
   "outputs": [],
   "source": [
    "filename = \"./data/SpeechCommands/speech_commands_v0.02/no/0b40aa8e_nohash_0.wav\"\n",
    "waveform, sample_rate = plot_audio(filename)\n",
    "ipd.Audio(waveform.numpy(), rate=sample_rate)"
   ]
  },
  {
   "cell_type": "code",
   "execution_count": null,
   "id": "4daa2e6a-7dbc-4a3e-ad6c-407cdc622689",
   "metadata": {},
   "outputs": [],
   "source": []
  }
 ],
 "metadata": {
  "kernelspec": {
   "display_name": "Python 3 (ipykernel)",
   "language": "python",
   "name": "python3"
  },
  "language_info": {
   "codemirror_mode": {
    "name": "ipython",
    "version": 3
   },
   "file_extension": ".py",
   "mimetype": "text/x-python",
   "name": "python",
   "nbconvert_exporter": "python",
   "pygments_lexer": "ipython3",
   "version": "3.11.5"
  }
 },
 "nbformat": 4,
 "nbformat_minor": 5
}
